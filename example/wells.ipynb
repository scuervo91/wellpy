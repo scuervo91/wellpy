{
 "metadata": {
  "language_info": {
   "codemirror_mode": {
    "name": "ipython",
    "version": 3
   },
   "file_extension": ".py",
   "mimetype": "text/x-python",
   "name": "python",
   "nbconvert_exporter": "python",
   "pygments_lexer": "ipython3",
   "version": "3.8.6-final"
  },
  "orig_nbformat": 2,
  "kernelspec": {
   "name": "python3",
   "display_name": "Python 3.8.6 64-bit ('reservoir': conda)",
   "metadata": {
    "interpreter": {
     "hash": "2734225794a599eee73db8b28313b5c7010c8c5556bd85f7e50dc3b83f8d403a"
    }
   }
  }
 },
 "nbformat": 4,
 "nbformat_minor": 2,
 "cells": [
  {
   "source": [
    "# Wellpy Examples\n",
    "\n",
    "This notebook shows the basic example to create both, Well and WellsGroup for begin different Workflows. This Base classes are intended to be extended by plugs in to add specific functionalities by other libraries. Well logs, Well Forecast etc"
   ],
   "cell_type": "markdown",
   "metadata": {}
  },
  {
   "cell_type": "code",
   "execution_count": 1,
   "metadata": {},
   "outputs": [
    {
     "output_type": "stream",
     "name": "stdout",
     "text": [
      "/home/scuervo91/dev/wellpy\n/home/scuervo91/anaconda3/envs/reservoir/bin/python\n"
     ]
    }
   ],
   "source": [
    "import os\n",
    "path = os.path.abspath(os.path.join('..'))\n",
    "print(path)\n",
    "import sys\n",
    "sys.path.insert(0,path)\n",
    "print(sys.executable)\n",
    "import wellpy as wy\n",
    "import pandas as pd \n",
    "import numpy as np"
   ]
  },
  {
   "cell_type": "code",
   "execution_count": 2,
   "metadata": {},
   "outputs": [
    {
     "output_type": "execute_result",
     "data": {
      "text/plain": [
       "    well     md   inc     azi\n",
       "0  21103    0.0  0.00    0.00\n",
       "1  21103  658.0  2.56  267.07\n",
       "2  21103  781.0  0.88  252.69\n",
       "3  21103  873.0  1.19  197.57\n",
       "4  21103  967.0  0.75  174.82"
      ],
      "text/html": "<div>\n<style scoped>\n    .dataframe tbody tr th:only-of-type {\n        vertical-align: middle;\n    }\n\n    .dataframe tbody tr th {\n        vertical-align: top;\n    }\n\n    .dataframe thead th {\n        text-align: right;\n    }\n</style>\n<table border=\"1\" class=\"dataframe\">\n  <thead>\n    <tr style=\"text-align: right;\">\n      <th></th>\n      <th>well</th>\n      <th>md</th>\n      <th>inc</th>\n      <th>azi</th>\n    </tr>\n  </thead>\n  <tbody>\n    <tr>\n      <th>0</th>\n      <td>21103</td>\n      <td>0.0</td>\n      <td>0.00</td>\n      <td>0.00</td>\n    </tr>\n    <tr>\n      <th>1</th>\n      <td>21103</td>\n      <td>658.0</td>\n      <td>2.56</td>\n      <td>267.07</td>\n    </tr>\n    <tr>\n      <th>2</th>\n      <td>21103</td>\n      <td>781.0</td>\n      <td>0.88</td>\n      <td>252.69</td>\n    </tr>\n    <tr>\n      <th>3</th>\n      <td>21103</td>\n      <td>873.0</td>\n      <td>1.19</td>\n      <td>197.57</td>\n    </tr>\n    <tr>\n      <th>4</th>\n      <td>21103</td>\n      <td>967.0</td>\n      <td>0.75</td>\n      <td>174.82</td>\n    </tr>\n  </tbody>\n</table>\n</div>"
     },
     "metadata": {},
     "execution_count": 2
    }
   ],
   "source": [
    "deviations = pd.read_csv('deviations.csv')\n",
    "deviations.head()"
   ]
  },
  {
   "cell_type": "code",
   "execution_count": 3,
   "metadata": {},
   "outputs": [],
   "source": [
    "#Create a Well\n",
    "\n",
    "w3 = wy.Well(\n",
    "    name='well-3',\n",
    "    rte=500,\n",
    "    surf_coord=[1100000,1200000],\n",
    "    crs=3116,\n",
    "    survey = deviations[deviations['well']==21103]\n",
    "    )"
   ]
  },
  {
   "cell_type": "code",
   "execution_count": 4,
   "metadata": {},
   "outputs": [
    {
     "output_type": "execute_result",
     "data": {
      "text/plain": [
       "<AxesSubplot:>"
      ]
     },
     "metadata": {},
     "execution_count": 4
    },
    {
     "output_type": "display_data",
     "data": {
      "text/plain": "<Figure size 432x288 with 1 Axes>",
      "image/svg+xml": "<?xml version=\"1.0\" encoding=\"utf-8\" standalone=\"no\"?>\n<!DOCTYPE svg PUBLIC \"-//W3C//DTD SVG 1.1//EN\"\n  \"http://www.w3.org/Graphics/SVG/1.1/DTD/svg11.dtd\">\n<!-- Created with matplotlib (https://matplotlib.org/) -->\n<svg height=\"271.794688pt\" version=\"1.1\" viewBox=\"0 0 236.239199 271.794688\" width=\"236.239199pt\" xmlns=\"http://www.w3.org/2000/svg\" xmlns:xlink=\"http://www.w3.org/1999/xlink\">\n <metadata>\n  <rdf:RDF xmlns:cc=\"http://creativecommons.org/ns#\" xmlns:dc=\"http://purl.org/dc/elements/1.1/\" xmlns:rdf=\"http://www.w3.org/1999/02/22-rdf-syntax-ns#\">\n   <cc:Work>\n    <dc:type rdf:resource=\"http://purl.org/dc/dcmitype/StillImage\"/>\n    <dc:date>2021-01-16T16:45:16.326769</dc:date>\n    <dc:format>image/svg+xml</dc:format>\n    <dc:creator>\n     <cc:Agent>\n      <dc:title>Matplotlib v3.3.3, https://matplotlib.org/</dc:title>\n     </cc:Agent>\n    </dc:creator>\n   </cc:Work>\n  </rdf:RDF>\n </metadata>\n <defs>\n  <style type=\"text/css\">*{stroke-linecap:butt;stroke-linejoin:round;}</style>\n </defs>\n <g id=\"figure_1\">\n  <g id=\"patch_1\">\n   <path d=\"M 0 271.794688 \nL 236.239199 271.794688 \nL 236.239199 0 \nL 0 0 \nz\n\" style=\"fill:none;\"/>\n  </g>\n  <g id=\"axes_1\">\n   <g id=\"patch_2\">\n    <path d=\"M 41.667188 235.238438 \nL 229.039199 235.238438 \nL 229.039199 17.798438 \nL 41.667188 17.798438 \nz\n\" style=\"fill:#ffffff;\"/>\n   </g>\n   <g id=\"PathCollection_1\">\n    <defs>\n     <path d=\"M 0 3 \nC 0.795609 3 1.55874 2.683901 2.12132 2.12132 \nC 2.683901 1.55874 3 0.795609 3 0 \nC 3 -0.795609 2.683901 -1.55874 2.12132 -2.12132 \nC 1.55874 -2.683901 0.795609 -3 0 -3 \nC -0.795609 -3 -1.55874 -2.683901 -2.12132 -2.12132 \nC -2.683901 -1.55874 -3 -0.795609 -3 0 \nC -3 0.795609 -2.683901 1.55874 -2.12132 2.12132 \nC -1.55874 2.683901 -0.795609 3 0 3 \nz\n\" id=\"m286e56a892\" style=\"stroke:#1f77b4;\"/>\n    </defs>\n    <g clip-path=\"url(#pe5d5cd1d07)\">\n     <use style=\"fill:#1f77b4;stroke:#1f77b4;\" x=\"57.689537\" xlink:href=\"#m286e56a892\" y=\"27.682074\"/>\n     <use style=\"fill:#1f77b4;stroke:#1f77b4;\" x=\"53.051302\" xlink:href=\"#m286e56a892\" y=\"27.919472\"/>\n     <use style=\"fill:#1f77b4;stroke:#1f77b4;\" x=\"51.899449\" xlink:href=\"#m286e56a892\" y=\"28.052654\"/>\n     <use style=\"fill:#1f77b4;stroke:#1f77b4;\" x=\"51.595185\" xlink:href=\"#m286e56a892\" y=\"28.406881\"/>\n     <use style=\"fill:#1f77b4;stroke:#1f77b4;\" x=\"51.519628\" xlink:href=\"#m286e56a892\" y=\"28.894543\"/>\n     <use style=\"fill:#1f77b4;stroke:#1f77b4;\" x=\"51.545473\" xlink:href=\"#m286e56a892\" y=\"29.198613\"/>\n     <use style=\"fill:#1f77b4;stroke:#1f77b4;\" x=\"51.469551\" xlink:href=\"#m286e56a892\" y=\"29.36297\"/>\n     <use style=\"fill:#1f77b4;stroke:#1f77b4;\" x=\"51.252058\" xlink:href=\"#m286e56a892\" y=\"29.448495\"/>\n     <use style=\"fill:#1f77b4;stroke:#1f77b4;\" x=\"50.792401\" xlink:href=\"#m286e56a892\" y=\"29.432346\"/>\n     <use style=\"fill:#1f77b4;stroke:#1f77b4;\" x=\"50.401711\" xlink:href=\"#m286e56a892\" y=\"29.117658\"/>\n     <use style=\"fill:#1f77b4;stroke:#1f77b4;\" x=\"50.184097\" xlink:href=\"#m286e56a892\" y=\"28.542283\"/>\n     <use style=\"fill:#1f77b4;stroke:#1f77b4;\" x=\"50.279289\" xlink:href=\"#m286e56a892\" y=\"28.034156\"/>\n     <use style=\"fill:#1f77b4;stroke:#1f77b4;\" x=\"50.82322\" xlink:href=\"#m286e56a892\" y=\"27.970953\"/>\n     <use style=\"fill:#1f77b4;stroke:#1f77b4;\" x=\"51.349687\" xlink:href=\"#m286e56a892\" y=\"28.182727\"/>\n     <use style=\"fill:#1f77b4;stroke:#1f77b4;\" x=\"51.66428\" xlink:href=\"#m286e56a892\" y=\"28.230422\"/>\n     <use style=\"fill:#1f77b4;stroke:#1f77b4;\" x=\"51.630946\" xlink:href=\"#m286e56a892\" y=\"28.35629\"/>\n     <use style=\"fill:#1f77b4;stroke:#1f77b4;\" x=\"51.234871\" xlink:href=\"#m286e56a892\" y=\"28.64456\"/>\n     <use style=\"fill:#1f77b4;stroke:#1f77b4;\" x=\"51.360726\" xlink:href=\"#m286e56a892\" y=\"29.34939\"/>\n     <use style=\"fill:#1f77b4;stroke:#1f77b4;\" x=\"51.938054\" xlink:href=\"#m286e56a892\" y=\"29.94888\"/>\n     <use style=\"fill:#1f77b4;stroke:#1f77b4;\" x=\"53.367075\" xlink:href=\"#m286e56a892\" y=\"31.483063\"/>\n     <use style=\"fill:#1f77b4;stroke:#1f77b4;\" x=\"54.426284\" xlink:href=\"#m286e56a892\" y=\"32.709858\"/>\n     <use style=\"fill:#1f77b4;stroke:#1f77b4;\" x=\"55.496591\" xlink:href=\"#m286e56a892\" y=\"33.90502\"/>\n     <use style=\"fill:#1f77b4;stroke:#1f77b4;\" x=\"56.445108\" xlink:href=\"#m286e56a892\" y=\"34.925413\"/>\n     <use style=\"fill:#1f77b4;stroke:#1f77b4;\" x=\"57.292531\" xlink:href=\"#m286e56a892\" y=\"35.881399\"/>\n     <use style=\"fill:#1f77b4;stroke:#1f77b4;\" x=\"58.107507\" xlink:href=\"#m286e56a892\" y=\"36.865836\"/>\n     <use style=\"fill:#1f77b4;stroke:#1f77b4;\" x=\"59.096111\" xlink:href=\"#m286e56a892\" y=\"38.170093\"/>\n     <use style=\"fill:#1f77b4;stroke:#1f77b4;\" x=\"60.264368\" xlink:href=\"#m286e56a892\" y=\"39.928232\"/>\n     <use style=\"fill:#1f77b4;stroke:#1f77b4;\" x=\"61.496481\" xlink:href=\"#m286e56a892\" y=\"41.798073\"/>\n     <use style=\"fill:#1f77b4;stroke:#1f77b4;\" x=\"62.907906\" xlink:href=\"#m286e56a892\" y=\"44.035053\"/>\n     <use style=\"fill:#1f77b4;stroke:#1f77b4;\" x=\"64.471534\" xlink:href=\"#m286e56a892\" y=\"46.642152\"/>\n     <use style=\"fill:#1f77b4;stroke:#1f77b4;\" x=\"66.14657\" xlink:href=\"#m286e56a892\" y=\"49.411685\"/>\n     <use style=\"fill:#1f77b4;stroke:#1f77b4;\" x=\"67.819926\" xlink:href=\"#m286e56a892\" y=\"52.535592\"/>\n     <use style=\"fill:#1f77b4;stroke:#1f77b4;\" x=\"69.528551\" xlink:href=\"#m286e56a892\" y=\"56.009707\"/>\n     <use style=\"fill:#1f77b4;stroke:#1f77b4;\" x=\"71.315572\" xlink:href=\"#m286e56a892\" y=\"59.696805\"/>\n     <use style=\"fill:#1f77b4;stroke:#1f77b4;\" x=\"73.213516\" xlink:href=\"#m286e56a892\" y=\"63.472848\"/>\n     <use style=\"fill:#1f77b4;stroke:#1f77b4;\" x=\"75.185603\" xlink:href=\"#m286e56a892\" y=\"67.181806\"/>\n     <use style=\"fill:#1f77b4;stroke:#1f77b4;\" x=\"77.093583\" xlink:href=\"#m286e56a892\" y=\"70.871922\"/>\n     <use style=\"fill:#1f77b4;stroke:#1f77b4;\" x=\"79.200867\" xlink:href=\"#m286e56a892\" y=\"74.574812\"/>\n     <use style=\"fill:#1f77b4;stroke:#1f77b4;\" x=\"81.666953\" xlink:href=\"#m286e56a892\" y=\"78.418291\"/>\n     <use style=\"fill:#1f77b4;stroke:#1f77b4;\" x=\"84.219966\" xlink:href=\"#m286e56a892\" y=\"82.322679\"/>\n     <use style=\"fill:#1f77b4;stroke:#1f77b4;\" x=\"86.717121\" xlink:href=\"#m286e56a892\" y=\"86.167575\"/>\n     <use style=\"fill:#1f77b4;stroke:#1f77b4;\" x=\"89.03912\" xlink:href=\"#m286e56a892\" y=\"89.821004\"/>\n     <use style=\"fill:#1f77b4;stroke:#1f77b4;\" x=\"91.143838\" xlink:href=\"#m286e56a892\" y=\"93.610305\"/>\n     <use style=\"fill:#1f77b4;stroke:#1f77b4;\" x=\"93.181506\" xlink:href=\"#m286e56a892\" y=\"97.734587\"/>\n     <use style=\"fill:#1f77b4;stroke:#1f77b4;\" x=\"95.361099\" xlink:href=\"#m286e56a892\" y=\"101.875619\"/>\n     <use style=\"fill:#1f77b4;stroke:#1f77b4;\" x=\"97.588965\" xlink:href=\"#m286e56a892\" y=\"105.787188\"/>\n     <use style=\"fill:#1f77b4;stroke:#1f77b4;\" x=\"99.838886\" xlink:href=\"#m286e56a892\" y=\"109.686406\"/>\n     <use style=\"fill:#1f77b4;stroke:#1f77b4;\" x=\"102.231795\" xlink:href=\"#m286e56a892\" y=\"113.686537\"/>\n     <use style=\"fill:#1f77b4;stroke:#1f77b4;\" x=\"104.704761\" xlink:href=\"#m286e56a892\" y=\"117.54388\"/>\n     <use style=\"fill:#1f77b4;stroke:#1f77b4;\" x=\"107.152202\" xlink:href=\"#m286e56a892\" y=\"121.207153\"/>\n     <use style=\"fill:#1f77b4;stroke:#1f77b4;\" x=\"109.78686\" xlink:href=\"#m286e56a892\" y=\"124.793408\"/>\n     <use style=\"fill:#1f77b4;stroke:#1f77b4;\" x=\"112.297493\" xlink:href=\"#m286e56a892\" y=\"128.364595\"/>\n     <use style=\"fill:#1f77b4;stroke:#1f77b4;\" x=\"114.592334\" xlink:href=\"#m286e56a892\" y=\"132.218789\"/>\n     <use style=\"fill:#1f77b4;stroke:#1f77b4;\" x=\"116.907111\" xlink:href=\"#m286e56a892\" y=\"136.343141\"/>\n     <use style=\"fill:#1f77b4;stroke:#1f77b4;\" x=\"119.24274\" xlink:href=\"#m286e56a892\" y=\"140.473384\"/>\n     <use style=\"fill:#1f77b4;stroke:#1f77b4;\" x=\"121.94586\" xlink:href=\"#m286e56a892\" y=\"144.472296\"/>\n     <use style=\"fill:#1f77b4;stroke:#1f77b4;\" x=\"124.909828\" xlink:href=\"#m286e56a892\" y=\"148.094677\"/>\n     <use style=\"fill:#1f77b4;stroke:#1f77b4;\" x=\"128.132254\" xlink:href=\"#m286e56a892\" y=\"151.792002\"/>\n     <use style=\"fill:#1f77b4;stroke:#1f77b4;\" x=\"131.509611\" xlink:href=\"#m286e56a892\" y=\"155.526859\"/>\n     <use style=\"fill:#1f77b4;stroke:#1f77b4;\" x=\"135.06669\" xlink:href=\"#m286e56a892\" y=\"159.209118\"/>\n     <use style=\"fill:#1f77b4;stroke:#1f77b4;\" x=\"138.83105\" xlink:href=\"#m286e56a892\" y=\"162.525573\"/>\n     <use style=\"fill:#1f77b4;stroke:#1f77b4;\" x=\"142.632229\" xlink:href=\"#m286e56a892\" y=\"165.219239\"/>\n     <use style=\"fill:#1f77b4;stroke:#1f77b4;\" x=\"146.295378\" xlink:href=\"#m286e56a892\" y=\"167.525815\"/>\n     <use style=\"fill:#1f77b4;stroke:#1f77b4;\" x=\"149.846205\" xlink:href=\"#m286e56a892\" y=\"169.865368\"/>\n     <use style=\"fill:#1f77b4;stroke:#1f77b4;\" x=\"153.078236\" xlink:href=\"#m286e56a892\" y=\"172.097703\"/>\n     <use style=\"fill:#1f77b4;stroke:#1f77b4;\" x=\"156.261232\" xlink:href=\"#m286e56a892\" y=\"174.285591\"/>\n     <use style=\"fill:#1f77b4;stroke:#1f77b4;\" x=\"159.36648\" xlink:href=\"#m286e56a892\" y=\"176.47013\"/>\n     <use style=\"fill:#1f77b4;stroke:#1f77b4;\" x=\"162.389671\" xlink:href=\"#m286e56a892\" y=\"178.656719\"/>\n     <use style=\"fill:#1f77b4;stroke:#1f77b4;\" x=\"165.348442\" xlink:href=\"#m286e56a892\" y=\"180.826484\"/>\n     <use style=\"fill:#1f77b4;stroke:#1f77b4;\" x=\"168.130674\" xlink:href=\"#m286e56a892\" y=\"182.82286\"/>\n     <use style=\"fill:#1f77b4;stroke:#1f77b4;\" x=\"170.729401\" xlink:href=\"#m286e56a892\" y=\"184.646368\"/>\n     <use style=\"fill:#1f77b4;stroke:#1f77b4;\" x=\"173.247273\" xlink:href=\"#m286e56a892\" y=\"186.458918\"/>\n     <use style=\"fill:#1f77b4;stroke:#1f77b4;\" x=\"175.685114\" xlink:href=\"#m286e56a892\" y=\"188.267249\"/>\n     <use style=\"fill:#1f77b4;stroke:#1f77b4;\" x=\"177.941047\" xlink:href=\"#m286e56a892\" y=\"189.997617\"/>\n     <use style=\"fill:#1f77b4;stroke:#1f77b4;\" x=\"180.028091\" xlink:href=\"#m286e56a892\" y=\"191.646342\"/>\n     <use style=\"fill:#1f77b4;stroke:#1f77b4;\" x=\"181.961217\" xlink:href=\"#m286e56a892\" y=\"193.170775\"/>\n     <use style=\"fill:#1f77b4;stroke:#1f77b4;\" x=\"183.950188\" xlink:href=\"#m286e56a892\" y=\"194.678594\"/>\n     <use style=\"fill:#1f77b4;stroke:#1f77b4;\" x=\"186.009016\" xlink:href=\"#m286e56a892\" y=\"196.343482\"/>\n     <use style=\"fill:#1f77b4;stroke:#1f77b4;\" x=\"187.922231\" xlink:href=\"#m286e56a892\" y=\"198.050949\"/>\n     <use style=\"fill:#1f77b4;stroke:#1f77b4;\" x=\"189.695443\" xlink:href=\"#m286e56a892\" y=\"199.860421\"/>\n     <use style=\"fill:#1f77b4;stroke:#1f77b4;\" x=\"191.40988\" xlink:href=\"#m286e56a892\" y=\"201.872919\"/>\n     <use style=\"fill:#1f77b4;stroke:#1f77b4;\" x=\"192.924223\" xlink:href=\"#m286e56a892\" y=\"203.911227\"/>\n     <use style=\"fill:#1f77b4;stroke:#1f77b4;\" x=\"194.642595\" xlink:href=\"#m286e56a892\" y=\"205.921518\"/>\n     <use style=\"fill:#1f77b4;stroke:#1f77b4;\" x=\"196.978488\" xlink:href=\"#m286e56a892\" y=\"208.088928\"/>\n     <use style=\"fill:#1f77b4;stroke:#1f77b4;\" x=\"199.737483\" xlink:href=\"#m286e56a892\" y=\"210.409977\"/>\n     <use style=\"fill:#1f77b4;stroke:#1f77b4;\" x=\"202.736768\" xlink:href=\"#m286e56a892\" y=\"212.635699\"/>\n     <use style=\"fill:#1f77b4;stroke:#1f77b4;\" x=\"220.522289\" xlink:href=\"#m286e56a892\" y=\"225.354801\"/>\n    </g>\n   </g>\n   <g id=\"matplotlib.axis_1\">\n    <g id=\"xtick_1\">\n     <g id=\"line2d_1\">\n      <defs>\n       <path d=\"M 0 0 \nL 0 3.5 \n\" id=\"m6fa2c37fee\" style=\"stroke:#000000;stroke-width:0.8;\"/>\n      </defs>\n      <g>\n       <use style=\"stroke:#000000;stroke-width:0.8;\" x=\"57.689537\" xlink:href=\"#m6fa2c37fee\" y=\"235.238438\"/>\n      </g>\n     </g>\n     <g id=\"text_1\">\n      <!-- 0 -->\n      <g transform=\"translate(54.508287 249.836875)scale(0.1 -0.1)\">\n       <defs>\n        <path d=\"M 31.78125 66.40625 \nQ 24.171875 66.40625 20.328125 58.90625 \nQ 16.5 51.421875 16.5 36.375 \nQ 16.5 21.390625 20.328125 13.890625 \nQ 24.171875 6.390625 31.78125 6.390625 \nQ 39.453125 6.390625 43.28125 13.890625 \nQ 47.125 21.390625 47.125 36.375 \nQ 47.125 51.421875 43.28125 58.90625 \nQ 39.453125 66.40625 31.78125 66.40625 \nz\nM 31.78125 74.21875 \nQ 44.046875 74.21875 50.515625 64.515625 \nQ 56.984375 54.828125 56.984375 36.375 \nQ 56.984375 17.96875 50.515625 8.265625 \nQ 44.046875 -1.421875 31.78125 -1.421875 \nQ 19.53125 -1.421875 13.0625 8.265625 \nQ 6.59375 17.96875 6.59375 36.375 \nQ 6.59375 54.828125 13.0625 64.515625 \nQ 19.53125 74.21875 31.78125 74.21875 \nz\n\" id=\"DejaVuSans-48\"/>\n       </defs>\n       <use xlink:href=\"#DejaVuSans-48\"/>\n      </g>\n     </g>\n    </g>\n    <g id=\"xtick_2\">\n     <g id=\"line2d_2\">\n      <g>\n       <use style=\"stroke:#000000;stroke-width:0.8;\" x=\"109.525945\" xlink:href=\"#m6fa2c37fee\" y=\"235.238438\"/>\n      </g>\n     </g>\n     <g id=\"text_2\">\n      <!-- 50 -->\n      <g transform=\"translate(103.163445 249.836875)scale(0.1 -0.1)\">\n       <defs>\n        <path d=\"M 10.796875 72.90625 \nL 49.515625 72.90625 \nL 49.515625 64.59375 \nL 19.828125 64.59375 \nL 19.828125 46.734375 \nQ 21.96875 47.46875 24.109375 47.828125 \nQ 26.265625 48.1875 28.421875 48.1875 \nQ 40.625 48.1875 47.75 41.5 \nQ 54.890625 34.8125 54.890625 23.390625 \nQ 54.890625 11.625 47.5625 5.09375 \nQ 40.234375 -1.421875 26.90625 -1.421875 \nQ 22.3125 -1.421875 17.546875 -0.640625 \nQ 12.796875 0.140625 7.71875 1.703125 \nL 7.71875 11.625 \nQ 12.109375 9.234375 16.796875 8.0625 \nQ 21.484375 6.890625 26.703125 6.890625 \nQ 35.15625 6.890625 40.078125 11.328125 \nQ 45.015625 15.765625 45.015625 23.390625 \nQ 45.015625 31 40.078125 35.4375 \nQ 35.15625 39.890625 26.703125 39.890625 \nQ 22.75 39.890625 18.8125 39.015625 \nQ 14.890625 38.140625 10.796875 36.28125 \nz\n\" id=\"DejaVuSans-53\"/>\n       </defs>\n       <use xlink:href=\"#DejaVuSans-53\"/>\n       <use x=\"63.623047\" xlink:href=\"#DejaVuSans-48\"/>\n      </g>\n     </g>\n    </g>\n    <g id=\"xtick_3\">\n     <g id=\"line2d_3\">\n      <g>\n       <use style=\"stroke:#000000;stroke-width:0.8;\" x=\"161.362353\" xlink:href=\"#m6fa2c37fee\" y=\"235.238438\"/>\n      </g>\n     </g>\n     <g id=\"text_3\">\n      <!-- 100 -->\n      <g transform=\"translate(151.818603 249.836875)scale(0.1 -0.1)\">\n       <defs>\n        <path d=\"M 12.40625 8.296875 \nL 28.515625 8.296875 \nL 28.515625 63.921875 \nL 10.984375 60.40625 \nL 10.984375 69.390625 \nL 28.421875 72.90625 \nL 38.28125 72.90625 \nL 38.28125 8.296875 \nL 54.390625 8.296875 \nL 54.390625 0 \nL 12.40625 0 \nz\n\" id=\"DejaVuSans-49\"/>\n       </defs>\n       <use xlink:href=\"#DejaVuSans-49\"/>\n       <use x=\"63.623047\" xlink:href=\"#DejaVuSans-48\"/>\n       <use x=\"127.246094\" xlink:href=\"#DejaVuSans-48\"/>\n      </g>\n     </g>\n    </g>\n    <g id=\"xtick_4\">\n     <g id=\"line2d_4\">\n      <g>\n       <use style=\"stroke:#000000;stroke-width:0.8;\" x=\"213.198761\" xlink:href=\"#m6fa2c37fee\" y=\"235.238438\"/>\n      </g>\n     </g>\n     <g id=\"text_4\">\n      <!-- 150 -->\n      <g transform=\"translate(203.655011 249.836875)scale(0.1 -0.1)\">\n       <use xlink:href=\"#DejaVuSans-49\"/>\n       <use x=\"63.623047\" xlink:href=\"#DejaVuSans-53\"/>\n       <use x=\"127.246094\" xlink:href=\"#DejaVuSans-48\"/>\n      </g>\n     </g>\n    </g>\n    <g id=\"text_5\">\n     <!-- +1.1e6 -->\n     <g transform=\"translate(192.240761 262.515)scale(0.1 -0.1)\">\n      <defs>\n       <path d=\"M 46 62.703125 \nL 46 35.5 \nL 73.1875 35.5 \nL 73.1875 27.203125 \nL 46 27.203125 \nL 46 0 \nL 37.796875 0 \nL 37.796875 27.203125 \nL 10.59375 27.203125 \nL 10.59375 35.5 \nL 37.796875 35.5 \nL 37.796875 62.703125 \nz\n\" id=\"DejaVuSans-43\"/>\n       <path d=\"M 10.6875 12.40625 \nL 21 12.40625 \nL 21 0 \nL 10.6875 0 \nz\n\" id=\"DejaVuSans-46\"/>\n       <path d=\"M 56.203125 29.59375 \nL 56.203125 25.203125 \nL 14.890625 25.203125 \nQ 15.484375 15.921875 20.484375 11.0625 \nQ 25.484375 6.203125 34.421875 6.203125 \nQ 39.59375 6.203125 44.453125 7.46875 \nQ 49.3125 8.734375 54.109375 11.28125 \nL 54.109375 2.78125 \nQ 49.265625 0.734375 44.1875 -0.34375 \nQ 39.109375 -1.421875 33.890625 -1.421875 \nQ 20.796875 -1.421875 13.15625 6.1875 \nQ 5.515625 13.8125 5.515625 26.8125 \nQ 5.515625 40.234375 12.765625 48.109375 \nQ 20.015625 56 32.328125 56 \nQ 43.359375 56 49.78125 48.890625 \nQ 56.203125 41.796875 56.203125 29.59375 \nz\nM 47.21875 32.234375 \nQ 47.125 39.59375 43.09375 43.984375 \nQ 39.0625 48.390625 32.421875 48.390625 \nQ 24.90625 48.390625 20.390625 44.140625 \nQ 15.875 39.890625 15.1875 32.171875 \nz\n\" id=\"DejaVuSans-101\"/>\n       <path d=\"M 33.015625 40.375 \nQ 26.375 40.375 22.484375 35.828125 \nQ 18.609375 31.296875 18.609375 23.390625 \nQ 18.609375 15.53125 22.484375 10.953125 \nQ 26.375 6.390625 33.015625 6.390625 \nQ 39.65625 6.390625 43.53125 10.953125 \nQ 47.40625 15.53125 47.40625 23.390625 \nQ 47.40625 31.296875 43.53125 35.828125 \nQ 39.65625 40.375 33.015625 40.375 \nz\nM 52.59375 71.296875 \nL 52.59375 62.3125 \nQ 48.875 64.0625 45.09375 64.984375 \nQ 41.3125 65.921875 37.59375 65.921875 \nQ 27.828125 65.921875 22.671875 59.328125 \nQ 17.53125 52.734375 16.796875 39.40625 \nQ 19.671875 43.65625 24.015625 45.921875 \nQ 28.375 48.1875 33.59375 48.1875 \nQ 44.578125 48.1875 50.953125 41.515625 \nQ 57.328125 34.859375 57.328125 23.390625 \nQ 57.328125 12.15625 50.6875 5.359375 \nQ 44.046875 -1.421875 33.015625 -1.421875 \nQ 20.359375 -1.421875 13.671875 8.265625 \nQ 6.984375 17.96875 6.984375 36.375 \nQ 6.984375 53.65625 15.1875 63.9375 \nQ 23.390625 74.21875 37.203125 74.21875 \nQ 40.921875 74.21875 44.703125 73.484375 \nQ 48.484375 72.75 52.59375 71.296875 \nz\n\" id=\"DejaVuSans-54\"/>\n      </defs>\n      <use xlink:href=\"#DejaVuSans-43\"/>\n      <use x=\"83.789062\" xlink:href=\"#DejaVuSans-49\"/>\n      <use x=\"147.412109\" xlink:href=\"#DejaVuSans-46\"/>\n      <use x=\"179.199219\" xlink:href=\"#DejaVuSans-49\"/>\n      <use x=\"242.822266\" xlink:href=\"#DejaVuSans-101\"/>\n      <use x=\"304.345703\" xlink:href=\"#DejaVuSans-54\"/>\n     </g>\n    </g>\n   </g>\n   <g id=\"matplotlib.axis_2\">\n    <g id=\"ytick_1\">\n     <g id=\"line2d_5\">\n      <defs>\n       <path d=\"M 0 0 \nL -3.5 0 \n\" id=\"ma6b4718f6b\" style=\"stroke:#000000;stroke-width:0.8;\"/>\n      </defs>\n      <g>\n       <use style=\"stroke:#000000;stroke-width:0.8;\" x=\"41.667188\" xlink:href=\"#ma6b4718f6b\" y=\"235.027707\"/>\n      </g>\n     </g>\n     <g id=\"text_6\">\n      <!-- −200 -->\n      <g transform=\"translate(7.2 238.826926)scale(0.1 -0.1)\">\n       <defs>\n        <path d=\"M 10.59375 35.5 \nL 73.1875 35.5 \nL 73.1875 27.203125 \nL 10.59375 27.203125 \nz\n\" id=\"DejaVuSans-8722\"/>\n        <path d=\"M 19.1875 8.296875 \nL 53.609375 8.296875 \nL 53.609375 0 \nL 7.328125 0 \nL 7.328125 8.296875 \nQ 12.9375 14.109375 22.625 23.890625 \nQ 32.328125 33.6875 34.8125 36.53125 \nQ 39.546875 41.84375 41.421875 45.53125 \nQ 43.3125 49.21875 43.3125 52.78125 \nQ 43.3125 58.59375 39.234375 62.25 \nQ 35.15625 65.921875 28.609375 65.921875 \nQ 23.96875 65.921875 18.8125 64.3125 \nQ 13.671875 62.703125 7.8125 59.421875 \nL 7.8125 69.390625 \nQ 13.765625 71.78125 18.9375 73 \nQ 24.125 74.21875 28.421875 74.21875 \nQ 39.75 74.21875 46.484375 68.546875 \nQ 53.21875 62.890625 53.21875 53.421875 \nQ 53.21875 48.921875 51.53125 44.890625 \nQ 49.859375 40.875 45.40625 35.40625 \nQ 44.1875 33.984375 37.640625 27.21875 \nQ 31.109375 20.453125 19.1875 8.296875 \nz\n\" id=\"DejaVuSans-50\"/>\n       </defs>\n       <use xlink:href=\"#DejaVuSans-8722\"/>\n       <use x=\"83.789062\" xlink:href=\"#DejaVuSans-50\"/>\n       <use x=\"147.412109\" xlink:href=\"#DejaVuSans-48\"/>\n       <use x=\"211.035156\" xlink:href=\"#DejaVuSans-48\"/>\n      </g>\n     </g>\n    </g>\n    <g id=\"ytick_2\">\n     <g id=\"line2d_6\">\n      <g>\n       <use style=\"stroke:#000000;stroke-width:0.8;\" x=\"41.667188\" xlink:href=\"#ma6b4718f6b\" y=\"209.109503\"/>\n      </g>\n     </g>\n     <g id=\"text_7\">\n      <!-- −175 -->\n      <g transform=\"translate(7.2 212.908722)scale(0.1 -0.1)\">\n       <defs>\n        <path d=\"M 8.203125 72.90625 \nL 55.078125 72.90625 \nL 55.078125 68.703125 \nL 28.609375 0 \nL 18.3125 0 \nL 43.21875 64.59375 \nL 8.203125 64.59375 \nz\n\" id=\"DejaVuSans-55\"/>\n       </defs>\n       <use xlink:href=\"#DejaVuSans-8722\"/>\n       <use x=\"83.789062\" xlink:href=\"#DejaVuSans-49\"/>\n       <use x=\"147.412109\" xlink:href=\"#DejaVuSans-55\"/>\n       <use x=\"211.035156\" xlink:href=\"#DejaVuSans-53\"/>\n      </g>\n     </g>\n    </g>\n    <g id=\"ytick_3\">\n     <g id=\"line2d_7\">\n      <g>\n       <use style=\"stroke:#000000;stroke-width:0.8;\" x=\"41.667188\" xlink:href=\"#ma6b4718f6b\" y=\"183.191299\"/>\n      </g>\n     </g>\n     <g id=\"text_8\">\n      <!-- −150 -->\n      <g transform=\"translate(7.2 186.990517)scale(0.1 -0.1)\">\n       <use xlink:href=\"#DejaVuSans-8722\"/>\n       <use x=\"83.789062\" xlink:href=\"#DejaVuSans-49\"/>\n       <use x=\"147.412109\" xlink:href=\"#DejaVuSans-53\"/>\n       <use x=\"211.035156\" xlink:href=\"#DejaVuSans-48\"/>\n      </g>\n     </g>\n    </g>\n    <g id=\"ytick_4\">\n     <g id=\"line2d_8\">\n      <g>\n       <use style=\"stroke:#000000;stroke-width:0.8;\" x=\"41.667188\" xlink:href=\"#ma6b4718f6b\" y=\"157.273095\"/>\n      </g>\n     </g>\n     <g id=\"text_9\">\n      <!-- −125 -->\n      <g transform=\"translate(7.2 161.072313)scale(0.1 -0.1)\">\n       <use xlink:href=\"#DejaVuSans-8722\"/>\n       <use x=\"83.789062\" xlink:href=\"#DejaVuSans-49\"/>\n       <use x=\"147.412109\" xlink:href=\"#DejaVuSans-50\"/>\n       <use x=\"211.035156\" xlink:href=\"#DejaVuSans-53\"/>\n      </g>\n     </g>\n    </g>\n    <g id=\"ytick_5\">\n     <g id=\"line2d_9\">\n      <g>\n       <use style=\"stroke:#000000;stroke-width:0.8;\" x=\"41.667188\" xlink:href=\"#ma6b4718f6b\" y=\"131.35489\"/>\n      </g>\n     </g>\n     <g id=\"text_10\">\n      <!-- −100 -->\n      <g transform=\"translate(7.2 135.154109)scale(0.1 -0.1)\">\n       <use xlink:href=\"#DejaVuSans-8722\"/>\n       <use x=\"83.789062\" xlink:href=\"#DejaVuSans-49\"/>\n       <use x=\"147.412109\" xlink:href=\"#DejaVuSans-48\"/>\n       <use x=\"211.035156\" xlink:href=\"#DejaVuSans-48\"/>\n      </g>\n     </g>\n    </g>\n    <g id=\"ytick_6\">\n     <g id=\"line2d_10\">\n      <g>\n       <use style=\"stroke:#000000;stroke-width:0.8;\" x=\"41.667188\" xlink:href=\"#ma6b4718f6b\" y=\"105.436686\"/>\n      </g>\n     </g>\n     <g id=\"text_11\">\n      <!-- −75 -->\n      <g transform=\"translate(13.5625 109.235905)scale(0.1 -0.1)\">\n       <use xlink:href=\"#DejaVuSans-8722\"/>\n       <use x=\"83.789062\" xlink:href=\"#DejaVuSans-55\"/>\n       <use x=\"147.412109\" xlink:href=\"#DejaVuSans-53\"/>\n      </g>\n     </g>\n    </g>\n    <g id=\"ytick_7\">\n     <g id=\"line2d_11\">\n      <g>\n       <use style=\"stroke:#000000;stroke-width:0.8;\" x=\"41.667188\" xlink:href=\"#ma6b4718f6b\" y=\"79.518482\"/>\n      </g>\n     </g>\n     <g id=\"text_12\">\n      <!-- −50 -->\n      <g transform=\"translate(13.5625 83.317701)scale(0.1 -0.1)\">\n       <use xlink:href=\"#DejaVuSans-8722\"/>\n       <use x=\"83.789062\" xlink:href=\"#DejaVuSans-53\"/>\n       <use x=\"147.412109\" xlink:href=\"#DejaVuSans-48\"/>\n      </g>\n     </g>\n    </g>\n    <g id=\"ytick_8\">\n     <g id=\"line2d_12\">\n      <g>\n       <use style=\"stroke:#000000;stroke-width:0.8;\" x=\"41.667188\" xlink:href=\"#ma6b4718f6b\" y=\"53.600278\"/>\n      </g>\n     </g>\n     <g id=\"text_13\">\n      <!-- −25 -->\n      <g transform=\"translate(13.5625 57.399497)scale(0.1 -0.1)\">\n       <use xlink:href=\"#DejaVuSans-8722\"/>\n       <use x=\"83.789062\" xlink:href=\"#DejaVuSans-50\"/>\n       <use x=\"147.412109\" xlink:href=\"#DejaVuSans-53\"/>\n      </g>\n     </g>\n    </g>\n    <g id=\"ytick_9\">\n     <g id=\"line2d_13\">\n      <g>\n       <use style=\"stroke:#000000;stroke-width:0.8;\" x=\"41.667188\" xlink:href=\"#ma6b4718f6b\" y=\"27.682074\"/>\n      </g>\n     </g>\n     <g id=\"text_14\">\n      <!-- 0 -->\n      <g transform=\"translate(28.304688 31.481293)scale(0.1 -0.1)\">\n       <use xlink:href=\"#DejaVuSans-48\"/>\n      </g>\n     </g>\n    </g>\n    <g id=\"text_15\">\n     <!-- +1.2e6 -->\n     <g transform=\"translate(41.667188 14.798437)scale(0.1 -0.1)\">\n      <use xlink:href=\"#DejaVuSans-43\"/>\n      <use x=\"83.789062\" xlink:href=\"#DejaVuSans-49\"/>\n      <use x=\"147.412109\" xlink:href=\"#DejaVuSans-46\"/>\n      <use x=\"179.199219\" xlink:href=\"#DejaVuSans-50\"/>\n      <use x=\"242.822266\" xlink:href=\"#DejaVuSans-101\"/>\n      <use x=\"304.345703\" xlink:href=\"#DejaVuSans-54\"/>\n     </g>\n    </g>\n   </g>\n   <g id=\"patch_3\">\n    <path d=\"M 41.667188 235.238437 \nL 41.667188 17.798437 \n\" style=\"fill:none;stroke:#000000;stroke-linecap:square;stroke-linejoin:miter;stroke-width:0.8;\"/>\n   </g>\n   <g id=\"patch_4\">\n    <path d=\"M 229.039199 235.238437 \nL 229.039199 17.798437 \n\" style=\"fill:none;stroke:#000000;stroke-linecap:square;stroke-linejoin:miter;stroke-width:0.8;\"/>\n   </g>\n   <g id=\"patch_5\">\n    <path d=\"M 41.667188 235.238438 \nL 229.039199 235.238438 \n\" style=\"fill:none;stroke:#000000;stroke-linecap:square;stroke-linejoin:miter;stroke-width:0.8;\"/>\n   </g>\n   <g id=\"patch_6\">\n    <path d=\"M 41.667188 17.798438 \nL 229.039199 17.798438 \n\" style=\"fill:none;stroke:#000000;stroke-linecap:square;stroke-linejoin:miter;stroke-width:0.8;\"/>\n   </g>\n  </g>\n </g>\n <defs>\n  <clipPath id=\"pe5d5cd1d07\">\n   <rect height=\"217.44\" width=\"187.372011\" x=\"41.667188\" y=\"17.798438\"/>\n  </clipPath>\n </defs>\n</svg>\n",
      "image/png": "[encoded data removed]"
     },
     "metadata": {
      "needs_background": "light"
     }
    }
   ],
   "source": [
    "w3.survey.plot()"
   ]
  },
  {
   "cell_type": "code",
   "execution_count": 5,
   "metadata": {},
   "outputs": [
    {
     "output_type": "execute_result",
     "data": {
      "text/plain": [
       "<folium.folium.Map at 0x7fd99d6b5b80>"
      ],
      "text/html": "<div style=\"width:100%;\"><div style=\"position:relative;width:100%;height:0;padding-bottom:60%;\"><span style=\"color:#565656\">Make this Notebook Trusted to load map: File -> Trust Notebook</span><iframe src=\"about:blank\" style=\"position:absolute;width:100%;height:100%;left:0;top:0;border:none !important;\" data-html=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 onload=\"this.contentDocument.open();this.contentDocument.write(atob(this.getAttribute('data-html')));this.contentDocument.close();\" allowfullscreen webkitallowfullscreen mozallowfullscreen></iframe></div></div>"
     },
     "metadata": {},
     "execution_count": 5
    }
   ],
   "source": [
    "w3.well_map()"
   ]
  },
  {
   "cell_type": "code",
   "execution_count": 6,
   "metadata": {},
   "outputs": [
    {
     "output_type": "execute_result",
     "data": {
      "text/plain": [
       "    new_md   new_inc     new_azi\n",
       "0      0.0  0.000000    0.000000\n",
       "1   1000.0  0.640000  175.128710\n",
       "2   2000.0  0.834086  223.603226\n",
       "3   3000.0  3.997474  145.800526\n",
       "4   4000.0  7.805789  153.310211\n",
       "5   5000.0  8.925789  149.226526\n",
       "6   6000.0  9.447188  138.330625\n",
       "7   7000.0  6.925258  126.228866\n",
       "8   8000.0  4.703469  131.800306\n",
       "9   9000.0  6.985554  125.570000\n",
       "10  9281.0  7.030000  125.570000"
      ],
      "text/html": "<div>\n<style scoped>\n    .dataframe tbody tr th:only-of-type {\n        vertical-align: middle;\n    }\n\n    .dataframe tbody tr th {\n        vertical-align: top;\n    }\n\n    .dataframe thead th {\n        text-align: right;\n    }\n</style>\n<table border=\"1\" class=\"dataframe\">\n  <thead>\n    <tr style=\"text-align: right;\">\n      <th></th>\n      <th>new_md</th>\n      <th>new_inc</th>\n      <th>new_azi</th>\n    </tr>\n  </thead>\n  <tbody>\n    <tr>\n      <th>0</th>\n      <td>0.0</td>\n      <td>0.000000</td>\n      <td>0.000000</td>\n    </tr>\n    <tr>\n      <th>1</th>\n      <td>1000.0</td>\n      <td>0.640000</td>\n      <td>175.128710</td>\n    </tr>\n    <tr>\n      <th>2</th>\n      <td>2000.0</td>\n      <td>0.834086</td>\n      <td>223.603226</td>\n    </tr>\n    <tr>\n      <th>3</th>\n      <td>3000.0</td>\n      <td>3.997474</td>\n      <td>145.800526</td>\n    </tr>\n    <tr>\n      <th>4</th>\n      <td>4000.0</td>\n      <td>7.805789</td>\n      <td>153.310211</td>\n    </tr>\n    <tr>\n      <th>5</th>\n      <td>5000.0</td>\n      <td>8.925789</td>\n      <td>149.226526</td>\n    </tr>\n    <tr>\n      <th>6</th>\n      <td>6000.0</td>\n      <td>9.447188</td>\n      <td>138.330625</td>\n    </tr>\n    <tr>\n      <th>7</th>\n      <td>7000.0</td>\n      <td>6.925258</td>\n      <td>126.228866</td>\n    </tr>\n    <tr>\n      <th>8</th>\n      <td>8000.0</td>\n      <td>4.703469</td>\n      <td>131.800306</td>\n    </tr>\n    <tr>\n      <th>9</th>\n      <td>9000.0</td>\n      <td>6.985554</td>\n      <td>125.570000</td>\n    </tr>\n    <tr>\n      <th>10</th>\n      <td>9281.0</td>\n      <td>7.030000</td>\n      <td>125.570000</td>\n    </tr>\n  </tbody>\n</table>\n</div>"
     },
     "metadata": {},
     "execution_count": 6
    }
   ],
   "source": [
    "w3.sample_deviation(step=1000)"
   ]
  },
  {
   "cell_type": "code",
   "execution_count": 7,
   "metadata": {},
   "outputs": [
    {
     "output_type": "execute_result",
     "data": {
      "text/plain": [
       "        new_tvd   new_easting  new_northing                         geometry\n",
       "0      0.000000  1.100000e+06  1.200000e+06  POINT (1100000.000 1200000.000)\n",
       "1   1000.000000  1.099994e+06  1.199999e+06  POINT (1099994.058 1199998.725)\n",
       "2   2000.000000  1.099994e+06  1.199999e+06  POINT (1099994.126 1199999.327)\n",
       "3   3000.000000  1.100002e+06  1.199989e+06  POINT (1100001.801 1199989.214)\n",
       "4   4000.000000  1.100019e+06  1.199958e+06  POINT (1100018.748 1199958.284)\n",
       "5   5000.000000  1.100042e+06  1.199918e+06  POINT (1100042.212 1199918.301)\n",
       "6   6000.000000  1.100069e+06  1.199879e+06  POINT (1100068.726 1199879.426)\n",
       "7   7000.000000  1.100103e+06  1.199853e+06  POINT (1100103.088 1199852.836)\n",
       "8   8000.000000  1.100126e+06  1.199835e+06  POINT (1100125.791 1199835.492)\n",
       "9   9000.000000  1.100150e+06  1.199814e+06  POINT (1100150.177 1199814.255)\n",
       "10  9226.729406  1.100157e+06  1.199809e+06  POINT (1100157.064 1199809.330)"
      ],
      "text/html": "<div>\n<style scoped>\n    .dataframe tbody tr th:only-of-type {\n        vertical-align: middle;\n    }\n\n    .dataframe tbody tr th {\n        vertical-align: top;\n    }\n\n    .dataframe thead th {\n        text-align: right;\n    }\n</style>\n<table border=\"1\" class=\"dataframe\">\n  <thead>\n    <tr style=\"text-align: right;\">\n      <th></th>\n      <th>new_tvd</th>\n      <th>new_easting</th>\n      <th>new_northing</th>\n      <th>geometry</th>\n    </tr>\n  </thead>\n  <tbody>\n    <tr>\n      <th>0</th>\n      <td>0.000000</td>\n      <td>1.100000e+06</td>\n      <td>1.200000e+06</td>\n      <td>POINT (1100000.000 1200000.000)</td>\n    </tr>\n    <tr>\n      <th>1</th>\n      <td>1000.000000</td>\n      <td>1.099994e+06</td>\n      <td>1.199999e+06</td>\n      <td>POINT (1099994.058 1199998.725)</td>\n    </tr>\n    <tr>\n      <th>2</th>\n      <td>2000.000000</td>\n      <td>1.099994e+06</td>\n      <td>1.199999e+06</td>\n      <td>POINT (1099994.126 1199999.327)</td>\n    </tr>\n    <tr>\n      <th>3</th>\n      <td>3000.000000</td>\n      <td>1.100002e+06</td>\n      <td>1.199989e+06</td>\n      <td>POINT (1100001.801 1199989.214)</td>\n    </tr>\n    <tr>\n      <th>4</th>\n      <td>4000.000000</td>\n      <td>1.100019e+06</td>\n      <td>1.199958e+06</td>\n      <td>POINT (1100018.748 1199958.284)</td>\n    </tr>\n    <tr>\n      <th>5</th>\n      <td>5000.000000</td>\n      <td>1.100042e+06</td>\n      <td>1.199918e+06</td>\n      <td>POINT (1100042.212 1199918.301)</td>\n    </tr>\n    <tr>\n      <th>6</th>\n      <td>6000.000000</td>\n      <td>1.100069e+06</td>\n      <td>1.199879e+06</td>\n      <td>POINT (1100068.726 1199879.426)</td>\n    </tr>\n    <tr>\n      <th>7</th>\n      <td>7000.000000</td>\n      <td>1.100103e+06</td>\n      <td>1.199853e+06</td>\n      <td>POINT (1100103.088 1199852.836)</td>\n    </tr>\n    <tr>\n      <th>8</th>\n      <td>8000.000000</td>\n      <td>1.100126e+06</td>\n      <td>1.199835e+06</td>\n      <td>POINT (1100125.791 1199835.492)</td>\n    </tr>\n    <tr>\n      <th>9</th>\n      <td>9000.000000</td>\n      <td>1.100150e+06</td>\n      <td>1.199814e+06</td>\n      <td>POINT (1100150.177 1199814.255)</td>\n    </tr>\n    <tr>\n      <th>10</th>\n      <td>9226.729406</td>\n      <td>1.100157e+06</td>\n      <td>1.199809e+06</td>\n      <td>POINT (1100157.064 1199809.330)</td>\n    </tr>\n  </tbody>\n</table>\n</div>"
     },
     "metadata": {},
     "execution_count": 7
    }
   ],
   "source": [
    "w3.sample_position(step=1000)"
   ]
  },
  {
   "cell_type": "code",
   "execution_count": 8,
   "metadata": {},
   "outputs": [
    {
     "output_type": "execute_result",
     "data": {
      "text/plain": [
       "array([1999.575421  , 2998.51371475, 3991.59673708])"
      ]
     },
     "metadata": {},
     "execution_count": 8
    }
   ],
   "source": [
    "w3.to_tvd([2000,3000,4000])"
   ]
  },
  {
   "cell_type": "code",
   "execution_count": 9,
   "metadata": {},
   "outputs": [
    {
     "output_type": "execute_result",
     "data": {
      "text/plain": [
       "array([-1499.575421  , -2498.51371475, -5764.33400782])"
      ]
     },
     "metadata": {},
     "execution_count": 9
    }
   ],
   "source": [
    "w3.to_tvd([2000,3000,6300], subsea=True)"
   ]
  },
  {
   "cell_type": "code",
   "execution_count": 10,
   "metadata": {},
   "outputs": [],
   "source": [
    "w4 = wy.Well(\n",
    "    name='well-4',\n",
    "    rte=500,\n",
    "    surf_coord=[1140000,1100000],\n",
    "    crs=3116,\n",
    "    survey = deviations[deviations['well']==21104]\n",
    "    )\n",
    "w5 = wy.Well(\n",
    "    name='well-5',\n",
    "    rte=500,\n",
    "    surf_coord=[1130000,1400000],\n",
    "    crs=3116,\n",
    "    survey = deviations[deviations['well']==21105]\n",
    "    )"
   ]
  },
  {
   "cell_type": "code",
   "execution_count": 11,
   "metadata": {},
   "outputs": [
    {
     "output_type": "execute_result",
     "data": {
      "text/plain": [
       "{'well-3': <wellpy.well.Well at 0x7fd99d6aa9a0>,\n",
       " 'well-4': <wellpy.well.Well at 0x7fd932924700>,\n",
       " 'well-5': <wellpy.well.Well at 0x7fd932924550>}"
      ]
     },
     "metadata": {},
     "execution_count": 11
    }
   ],
   "source": [
    "wg = wy.WellsGroup([w3,w4,w5])\n",
    "wg.wells"
   ]
  },
  {
   "cell_type": "code",
   "execution_count": 12,
   "metadata": {},
   "outputs": [
    {
     "output_type": "execute_result",
     "data": {
      "text/plain": [
       "<folium.folium.Map at 0x7fd99d6b5ca0>"
      ],
      "text/html": "<div style=\"width:100%;\"><div style=\"position:relative;width:100%;height:0;padding-bottom:60%;\"><span style=\"color:#565656\">Make this Notebook Trusted to load map: File -> Trust Notebook</span><iframe src=\"about:blank\" style=\"position:absolute;width:100%;height:100%;left:0;top:0;border:none !important;\" data-html=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 onload=\"this.contentDocument.open();this.contentDocument.write(atob(this.getAttribute('data-html')));this.contentDocument.close();\" allowfullscreen webkitallowfullscreen mozallowfullscreen></iframe></div></div>"
     },
     "metadata": {},
     "execution_count": 12
    }
   ],
   "source": [
    "wg.wells_map()"
   ]
  },
  {
   "cell_type": "code",
   "execution_count": 13,
   "metadata": {},
   "outputs": [
    {
     "output_type": "execute_result",
     "data": {
      "text/plain": [
       "               well-3         well-4         well-5\n",
       "well-3       0.000000  107703.296143  202237.484162\n",
       "well-4  107703.296143       0.000000  300166.620396\n",
       "well-5  202237.484162  300166.620396       0.000000"
      ],
      "text/html": "<div>\n<style scoped>\n    .dataframe tbody tr th:only-of-type {\n        vertical-align: middle;\n    }\n\n    .dataframe tbody tr th {\n        vertical-align: top;\n    }\n\n    .dataframe thead th {\n        text-align: right;\n    }\n</style>\n<table border=\"1\" class=\"dataframe\">\n  <thead>\n    <tr style=\"text-align: right;\">\n      <th></th>\n      <th>well-3</th>\n      <th>well-4</th>\n      <th>well-5</th>\n    </tr>\n  </thead>\n  <tbody>\n    <tr>\n      <th>well-3</th>\n      <td>0.000000</td>\n      <td>107703.296143</td>\n      <td>202237.484162</td>\n    </tr>\n    <tr>\n      <th>well-4</th>\n      <td>107703.296143</td>\n      <td>0.000000</td>\n      <td>300166.620396</td>\n    </tr>\n    <tr>\n      <th>well-5</th>\n      <td>202237.484162</td>\n      <td>300166.620396</td>\n      <td>0.000000</td>\n    </tr>\n  </tbody>\n</table>\n</div>"
     },
     "metadata": {},
     "execution_count": 13
    }
   ],
   "source": [
    "wg.wells_distance()"
   ]
  },
  {
   "cell_type": "code",
   "execution_count": 14,
   "metadata": {},
   "outputs": [
    {
     "output_type": "execute_result",
     "data": {
      "text/plain": [
       "        md    inc     azi          tvd        tvdss  north_offset  \\\n",
       "0      0.0   0.00    0.00     0.000000   500.000000      0.000000   \n",
       "1    658.0   2.56  267.07   657.781090  -157.781090     -0.751271   \n",
       "2    781.0   0.88  252.69   780.721708  -280.721708     -1.172742   \n",
       "3    873.0   1.19  197.57   872.708679  -372.708679     -2.293730   \n",
       "4    967.0   0.75  174.82   966.695309  -466.695309     -3.836991   \n",
       "..     ...    ...     ...          ...          ...           ...   \n",
       "68  6460.0  30.30  168.90  5785.589251 -5285.589251  -2619.445308   \n",
       "69  6550.0  29.40  169.40  5863.648400 -5363.648400  -2663.438505   \n",
       "70  6640.0  27.30  167.80  5942.850823 -5442.850823  -2705.327869   \n",
       "71  6733.0  26.10  166.70  6025.933358 -5525.933358  -2746.082756   \n",
       "72  6825.0  24.80  165.20  6109.004830 -5609.004830  -2784.432830   \n",
       "\n",
       "    east_offset      northing       easting      dleg  \\\n",
       "0      0.000000  1.200000e+06  1.100000e+06  0.000000   \n",
       "1    -14.678202  1.200000e+06  1.099996e+06  0.389058   \n",
       "2    -18.323367  1.200000e+06  1.099994e+06  1.399586   \n",
       "3    -19.286243  1.199999e+06  1.099994e+06  1.082994   \n",
       "4    -19.525352  1.199999e+06  1.099994e+06  0.613397   \n",
       "..          ...           ...           ...       ...   \n",
       "68   397.896293  1.399202e+06  1.130121e+06  0.549451   \n",
       "69   406.330961  1.399188e+06  1.130124e+06  1.037519   \n",
       "70   414.756703  1.399175e+06  1.130126e+06  2.481161   \n",
       "71   423.970038  1.399163e+06  1.130129e+06  1.395433   \n",
       "72   433.554638  1.399151e+06  1.130132e+06  1.577105   \n",
       "\n",
       "                          geometry    well  \n",
       "0   POINT (768056.678 1200385.399)  well-3  \n",
       "1   POINT (768052.200 1200385.196)  well-3  \n",
       "2   POINT (768051.088 1200385.074)  well-3  \n",
       "3   POINT (768050.792 1200384.734)  well-3  \n",
       "4   POINT (768050.717 1200384.264)  well-3  \n",
       "..                             ...     ...  \n",
       "68  POINT (799516.706 1399464.528)  well-5  \n",
       "69  POINT (799519.177 1399451.097)  well-5  \n",
       "70  POINT (799521.651 1399438.306)  well-5  \n",
       "71  POINT (799524.367 1399425.860)  well-5  \n",
       "72  POINT (799527.201 1399414.146)  well-5  \n",
       "\n",
       "[229 rows x 12 columns]"
      ],
      "text/html": "<div>\n<style scoped>\n    .dataframe tbody tr th:only-of-type {\n        vertical-align: middle;\n    }\n\n    .dataframe tbody tr th {\n        vertical-align: top;\n    }\n\n    .dataframe thead th {\n        text-align: right;\n    }\n</style>\n<table border=\"1\" class=\"dataframe\">\n  <thead>\n    <tr style=\"text-align: right;\">\n      <th></th>\n      <th>md</th>\n      <th>inc</th>\n      <th>azi</th>\n      <th>tvd</th>\n      <th>tvdss</th>\n      <th>north_offset</th>\n      <th>east_offset</th>\n      <th>northing</th>\n      <th>easting</th>\n      <th>dleg</th>\n      <th>geometry</th>\n      <th>well</th>\n    </tr>\n  </thead>\n  <tbody>\n    <tr>\n      <th>0</th>\n      <td>0.0</td>\n      <td>0.00</td>\n      <td>0.00</td>\n      <td>0.000000</td>\n      <td>500.000000</td>\n      <td>0.000000</td>\n      <td>0.000000</td>\n      <td>1.200000e+06</td>\n      <td>1.100000e+06</td>\n      <td>0.000000</td>\n      <td>POINT (768056.678 1200385.399)</td>\n      <td>well-3</td>\n    </tr>\n    <tr>\n      <th>1</th>\n      <td>658.0</td>\n      <td>2.56</td>\n      <td>267.07</td>\n      <td>657.781090</td>\n      <td>-157.781090</td>\n      <td>-0.751271</td>\n      <td>-14.678202</td>\n      <td>1.200000e+06</td>\n      <td>1.099996e+06</td>\n      <td>0.389058</td>\n      <td>POINT (768052.200 1200385.196)</td>\n      <td>well-3</td>\n    </tr>\n    <tr>\n      <th>2</th>\n      <td>781.0</td>\n      <td>0.88</td>\n      <td>252.69</td>\n      <td>780.721708</td>\n      <td>-280.721708</td>\n      <td>-1.172742</td>\n      <td>-18.323367</td>\n      <td>1.200000e+06</td>\n      <td>1.099994e+06</td>\n      <td>1.399586</td>\n      <td>POINT (768051.088 1200385.074)</td>\n      <td>well-3</td>\n    </tr>\n    <tr>\n      <th>3</th>\n      <td>873.0</td>\n      <td>1.19</td>\n      <td>197.57</td>\n      <td>872.708679</td>\n      <td>-372.708679</td>\n      <td>-2.293730</td>\n      <td>-19.286243</td>\n      <td>1.199999e+06</td>\n      <td>1.099994e+06</td>\n      <td>1.082994</td>\n      <td>POINT (768050.792 1200384.734)</td>\n      <td>well-3</td>\n    </tr>\n    <tr>\n      <th>4</th>\n      <td>967.0</td>\n      <td>0.75</td>\n      <td>174.82</td>\n      <td>966.695309</td>\n      <td>-466.695309</td>\n      <td>-3.836991</td>\n      <td>-19.525352</td>\n      <td>1.199999e+06</td>\n      <td>1.099994e+06</td>\n      <td>0.613397</td>\n      <td>POINT (768050.717 1200384.264)</td>\n      <td>well-3</td>\n    </tr>\n    <tr>\n      <th>...</th>\n      <td>...</td>\n      <td>...</td>\n      <td>...</td>\n      <td>...</td>\n      <td>...</td>\n      <td>...</td>\n      <td>...</td>\n      <td>...</td>\n      <td>...</td>\n      <td>...</td>\n      <td>...</td>\n      <td>...</td>\n    </tr>\n    <tr>\n      <th>68</th>\n      <td>6460.0</td>\n      <td>30.30</td>\n      <td>168.90</td>\n      <td>5785.589251</td>\n      <td>-5285.589251</td>\n      <td>-2619.445308</td>\n      <td>397.896293</td>\n      <td>1.399202e+06</td>\n      <td>1.130121e+06</td>\n      <td>0.549451</td>\n      <td>POINT (799516.706 1399464.528)</td>\n      <td>well-5</td>\n    </tr>\n    <tr>\n      <th>69</th>\n      <td>6550.0</td>\n      <td>29.40</td>\n      <td>169.40</td>\n      <td>5863.648400</td>\n      <td>-5363.648400</td>\n      <td>-2663.438505</td>\n      <td>406.330961</td>\n      <td>1.399188e+06</td>\n      <td>1.130124e+06</td>\n      <td>1.037519</td>\n      <td>POINT (799519.177 1399451.097)</td>\n      <td>well-5</td>\n    </tr>\n    <tr>\n      <th>70</th>\n      <td>6640.0</td>\n      <td>27.30</td>\n      <td>167.80</td>\n      <td>5942.850823</td>\n      <td>-5442.850823</td>\n      <td>-2705.327869</td>\n      <td>414.756703</td>\n      <td>1.399175e+06</td>\n      <td>1.130126e+06</td>\n      <td>2.481161</td>\n      <td>POINT (799521.651 1399438.306)</td>\n      <td>well-5</td>\n    </tr>\n    <tr>\n      <th>71</th>\n      <td>6733.0</td>\n      <td>26.10</td>\n      <td>166.70</td>\n      <td>6025.933358</td>\n      <td>-5525.933358</td>\n      <td>-2746.082756</td>\n      <td>423.970038</td>\n      <td>1.399163e+06</td>\n      <td>1.130129e+06</td>\n      <td>1.395433</td>\n      <td>POINT (799524.367 1399425.860)</td>\n      <td>well-5</td>\n    </tr>\n    <tr>\n      <th>72</th>\n      <td>6825.0</td>\n      <td>24.80</td>\n      <td>165.20</td>\n      <td>6109.004830</td>\n      <td>-5609.004830</td>\n      <td>-2784.432830</td>\n      <td>433.554638</td>\n      <td>1.399151e+06</td>\n      <td>1.130132e+06</td>\n      <td>1.577105</td>\n      <td>POINT (799527.201 1399414.146)</td>\n      <td>well-5</td>\n    </tr>\n  </tbody>\n</table>\n<p>229 rows × 12 columns</p>\n</div>"
     },
     "metadata": {},
     "execution_count": 14
    }
   ],
   "source": [
    "wg.wells_surveys(to_crs=3117)"
   ]
  },
  {
   "cell_type": "code",
   "execution_count": 15,
   "metadata": {},
   "outputs": [],
   "source": [
    "poly_surveys = wg.wells_surveys_vtk()"
   ]
  },
  {
   "cell_type": "code",
   "execution_count": 16,
   "metadata": {},
   "outputs": [],
   "source": [
    "poly_surveys.plot(notebook=True)"
   ]
  }
 ]
}